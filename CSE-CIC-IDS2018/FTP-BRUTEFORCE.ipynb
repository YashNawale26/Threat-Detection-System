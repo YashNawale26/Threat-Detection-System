{
 "cells": [
  {
   "cell_type": "code",
   "execution_count": 1,
   "id": "d0578974-3dd9-436d-80ed-a91ea6692055",
   "metadata": {},
   "outputs": [
    {
     "name": "stdout",
     "output_type": "stream",
     "text": [
      "\u001b[1m16568/16568\u001b[0m \u001b[32m━━━━━━━━━━━━━━━━━━━━\u001b[0m\u001b[37m\u001b[0m \u001b[1m29s\u001b[0m 2ms/step\n",
      "\u001b[1m4142/4142\u001b[0m \u001b[32m━━━━━━━━━━━━━━━━━━━━\u001b[0m\u001b[37m\u001b[0m \u001b[1m8s\u001b[0m 2ms/step\n",
      "\n",
      "Model Performance Metrics:\n",
      "              precision    recall  f1-score   support\n",
      "\n",
      "           0       1.00      1.00      1.00     93664\n",
      "           1       1.00      1.00      1.00     38878\n",
      "\n",
      "    accuracy                           1.00    132542\n",
      "   macro avg       1.00      1.00      1.00    132542\n",
      "weighted avg       1.00      1.00      1.00    132542\n",
      "\n"
     ]
    }
   ],
   "source": [
    "import pandas as pd\n",
    "import numpy as np\n",
    "from sklearn.model_selection import train_test_split\n",
    "from sklearn.preprocessing import StandardScaler, LabelEncoder\n",
    "from sklearn.ensemble import RandomForestClassifier\n",
    "from sklearn.discriminant_analysis import LinearDiscriminantAnalysis\n",
    "from sklearn.metrics import classification_report, confusion_matrix\n",
    "import tensorflow as tf\n",
    "from tensorflow.keras.layers import Dense, Input\n",
    "from tensorflow.keras.models import Model\n",
    "\n",
    "# Load and prepare data\n",
    "df = pd.read_csv('FTP-BruteForce.csv')\n",
    "\n",
    "# Separate features and target\n",
    "X = df.drop('Label', axis=1)  # Assuming 'Label' is the target column\n",
    "y = df['Label']\n",
    "\n",
    "# Encode labels\n",
    "le = LabelEncoder()\n",
    "y_encoded = le.fit_transform(y)\n",
    "\n",
    "# Scale features\n",
    "scaler = StandardScaler()\n",
    "X_scaled = scaler.fit_transform(X)\n",
    "\n",
    "# Split data\n",
    "X_train, X_test, y_train, y_test = train_test_split(X_scaled, y_encoded, test_size=0.2, random_state=42)\n",
    "\n",
    "# 1. Random Forest Feature Extraction\n",
    "def random_forest_feature_importance(X_train, y_train, X_test):\n",
    "    rf = RandomForestClassifier(n_estimators=100, random_state=42)\n",
    "    rf.fit(X_train, y_train)\n",
    "    \n",
    "    # Get feature importance scores\n",
    "    importances = rf.feature_importances_\n",
    "    feature_indices = np.argsort(importances)[::-1][:10]  # Top 10 features\n",
    "    \n",
    "    return X_train[:, feature_indices], X_test[:, feature_indices], rf\n",
    "\n",
    "# 2. LDA Feature Extraction\n",
    "def lda_feature_extraction(X_train, y_train, X_test):\n",
    "    lda = LinearDiscriminantAnalysis()\n",
    "    X_train_lda = lda.fit_transform(X_train, y_train)\n",
    "    X_test_lda = lda.transform(X_test)\n",
    "    \n",
    "    return X_train_lda, X_test_lda, lda\n",
    "\n",
    "# 3. Autoencoder Feature Extraction\n",
    "def autoencoder_feature_extraction(X_train, X_test):\n",
    "    input_dim = X_train.shape[1]\n",
    "    encoding_dim = 10\n",
    "    \n",
    "    input_layer = Input(shape=(input_dim,))\n",
    "    encoded = Dense(encoding_dim, activation='relu')(input_layer)\n",
    "    decoded = Dense(input_dim, activation='sigmoid')(encoded)\n",
    "    \n",
    "    autoencoder = Model(input_layer, decoded)\n",
    "    encoder = Model(input_layer, encoded)\n",
    "    \n",
    "    autoencoder.compile(optimizer='adam', loss='mse')\n",
    "    autoencoder.fit(X_train, X_train, epochs=50, batch_size=256, shuffle=True, verbose=0)\n",
    "    \n",
    "    X_train_encoded = encoder.predict(X_train)\n",
    "    X_test_encoded = encoder.predict(X_test)\n",
    "    \n",
    "    return X_train_encoded, X_test_encoded, encoder\n",
    "\n",
    "# Apply feature extraction methods\n",
    "X_train_rf, X_test_rf, rf_model = random_forest_feature_importance(X_train, y_train, X_test)\n",
    "X_train_lda, X_test_lda, lda_model = lda_feature_extraction(X_train, y_train, X_test)\n",
    "X_train_ae, X_test_ae, encoder_model = autoencoder_feature_extraction(X_train, X_test)\n",
    "\n",
    "# Create ensemble model\n",
    "def create_ensemble_model():\n",
    "    rf_clf = RandomForestClassifier(n_estimators=100, random_state=42)\n",
    "    rf_clf.fit(X_train_rf, y_train)\n",
    "    return rf_clf\n",
    "\n",
    "ensemble_model = create_ensemble_model()\n",
    "\n",
    "# Function to predict single log\n",
    "def predict_log(log_data):\n",
    "    # Scale the input data\n",
    "    log_scaled = scaler.transform(log_data)\n",
    "    \n",
    "    # Extract features using all methods\n",
    "    log_rf = log_scaled[:, rf_model.feature_importances_.argsort()[::-1][:10]]\n",
    "    log_lda = lda_model.transform(log_scaled)\n",
    "    log_ae = encoder_model.predict(log_scaled)\n",
    "    \n",
    "    # Make prediction using ensemble model\n",
    "    prediction = ensemble_model.predict(log_rf)\n",
    "    \n",
    "    return le.inverse_transform(prediction)[0]\n",
    "\n",
    "# Function to test random log from dataset\n",
    "def test_random_log():\n",
    "    # Select random row\n",
    "    random_idx = np.random.randint(0, len(df))\n",
    "    random_log = df.iloc[random_idx:random_idx+1].copy()\n",
    "    actual_label = random_log['Label'].values[0]\n",
    "    random_log_features = random_log.drop('Label', axis=1)\n",
    "    \n",
    "    # Make prediction\n",
    "    predicted_label = predict_log(random_log_features)\n",
    "    \n",
    "    print(\"Random Log Details:\")\n",
    "    print(random_log)\n",
    "    print(\"\\nActual Label:\", actual_label)\n",
    "    print(\"Predicted Label:\", predicted_label)\n",
    "    print(\"Attack Detected:\", \"Yes\" if predicted_label == \"FTP-BruteForce\" else \"No\")\n",
    "\n",
    "# Test the model with random log\n",
    "# test_random_log()\n",
    "\n",
    "# Space for custom log testing\n",
    "\"\"\"\n",
    "# To test your own log, use this format:\n",
    "custom_log = pd.DataFrame({\n",
    "    'feature1': [value1],\n",
    "    'feature2': [value2],\n",
    "    ...\n",
    "})\n",
    "result = predict_log(custom_log)\n",
    "print(\"Prediction for custom log:\", result)\n",
    "\"\"\"\n",
    "\n",
    "# Print model performance metrics\n",
    "y_pred = ensemble_model.predict(X_test_rf)\n",
    "print(\"\\nModel Performance Metrics:\")\n",
    "print(classification_report(y_test, y_pred))"
   ]
  },
  {
   "cell_type": "code",
   "execution_count": 6,
   "id": "121320ee-eda3-49cb-a3f6-53e979adbf41",
   "metadata": {},
   "outputs": [
    {
     "ename": "NameError",
     "evalue": "name 'pd' is not defined",
     "output_type": "error",
     "traceback": [
      "\u001b[1;31m---------------------------------------------------------------------------\u001b[0m",
      "\u001b[1;31mNameError\u001b[0m                                 Traceback (most recent call last)",
      "Cell \u001b[1;32mIn[6], line 2\u001b[0m\n\u001b[0;32m      1\u001b[0m \u001b[38;5;28;01mimport\u001b[39;00m \u001b[38;5;21;01mnumpy\u001b[39;00m \u001b[38;5;28;01mas\u001b[39;00m \u001b[38;5;21;01mnp\u001b[39;00m\n\u001b[1;32m----> 2\u001b[0m df \u001b[38;5;241m=\u001b[39m \u001b[43mpd\u001b[49m\u001b[38;5;241m.\u001b[39mread_csv(\u001b[38;5;124m'\u001b[39m\u001b[38;5;124mFTP-BruteForce.csv\u001b[39m\u001b[38;5;124m'\u001b[39m)\n\u001b[0;32m      3\u001b[0m \u001b[38;5;28;01mdef\u001b[39;00m \u001b[38;5;21mtest_random_log\u001b[39m():\n\u001b[0;32m      4\u001b[0m     \u001b[38;5;66;03m# Select random row\u001b[39;00m\n\u001b[0;32m      5\u001b[0m     random_idx \u001b[38;5;241m=\u001b[39m np\u001b[38;5;241m.\u001b[39mrandom\u001b[38;5;241m.\u001b[39mrandint(\u001b[38;5;241m0\u001b[39m, \u001b[38;5;28mlen\u001b[39m(df))\n",
      "\u001b[1;31mNameError\u001b[0m: name 'pd' is not defined"
     ]
    }
   ],
   "source": [
    "import numpy as np\n",
    "df = pd.read_csv('FTP-BruteForce.csv')\n",
    "def test_random_log():\n",
    "    # Select random row\n",
    "    random_idx = np.random.randint(0, len(df))\n",
    "    random_log = df.iloc[random_idx:random_idx+1].copy()\n",
    "    actual_label = random_log['Label'].values[0]\n",
    "    random_log_features = random_log.drop('Label', axis=1)\n",
    "    \n",
    "    # Make prediction\n",
    "    predicted_label = predict_log(random_log_features)\n",
    "    \n",
    "    print(\"Random Log Details:\")\n",
    "    print(random_log)\n",
    "    print(\"\\nActual Label:\", actual_label)\n",
    "    print(\"Predicted Label:\", predicted_label)\n",
    "    print(\"Attack Detected:\", \"Yes\" if predicted_label == \"FTP-BruteForce\" else \"No\")\n"
   ]
  },
  {
   "cell_type": "code",
   "execution_count": 5,
   "id": "72165949-875c-40e7-8f3c-ca19bb0fa2a5",
   "metadata": {},
   "outputs": [
    {
     "ename": "NameError",
     "evalue": "name 'df' is not defined",
     "output_type": "error",
     "traceback": [
      "\u001b[1;31m---------------------------------------------------------------------------\u001b[0m",
      "\u001b[1;31mNameError\u001b[0m                                 Traceback (most recent call last)",
      "Cell \u001b[1;32mIn[5], line 1\u001b[0m\n\u001b[1;32m----> 1\u001b[0m \u001b[43mtest_random_log\u001b[49m\u001b[43m(\u001b[49m\u001b[43m)\u001b[49m\n",
      "Cell \u001b[1;32mIn[4], line 5\u001b[0m, in \u001b[0;36mtest_random_log\u001b[1;34m()\u001b[0m\n\u001b[0;32m      3\u001b[0m \u001b[38;5;28;01mdef\u001b[39;00m \u001b[38;5;21mtest_random_log\u001b[39m():\n\u001b[0;32m      4\u001b[0m     \u001b[38;5;66;03m# Select random row\u001b[39;00m\n\u001b[1;32m----> 5\u001b[0m     random_idx \u001b[38;5;241m=\u001b[39m np\u001b[38;5;241m.\u001b[39mrandom\u001b[38;5;241m.\u001b[39mrandint(\u001b[38;5;241m0\u001b[39m, \u001b[38;5;28mlen\u001b[39m(\u001b[43mdf\u001b[49m))\n\u001b[0;32m      6\u001b[0m     random_log \u001b[38;5;241m=\u001b[39m df\u001b[38;5;241m.\u001b[39miloc[random_idx:random_idx\u001b[38;5;241m+\u001b[39m\u001b[38;5;241m1\u001b[39m]\u001b[38;5;241m.\u001b[39mcopy()\n\u001b[0;32m      7\u001b[0m     actual_label \u001b[38;5;241m=\u001b[39m random_log[\u001b[38;5;124m'\u001b[39m\u001b[38;5;124mLabel\u001b[39m\u001b[38;5;124m'\u001b[39m]\u001b[38;5;241m.\u001b[39mvalues[\u001b[38;5;241m0\u001b[39m]\n",
      "\u001b[1;31mNameError\u001b[0m: name 'df' is not defined"
     ]
    }
   ],
   "source": [
    "test_random_log()"
   ]
  },
  {
   "cell_type": "code",
   "execution_count": 31,
   "id": "00a9e50b-3f75-4426-94e7-4805e22c8f57",
   "metadata": {},
   "outputs": [
    {
     "data": {
      "text/plain": [
       "Label\n",
       "Benign            469350\n",
       "FTP-BruteForce    193360\n",
       "Name: count, dtype: int64"
      ]
     },
     "execution_count": 31,
     "metadata": {},
     "output_type": "execute_result"
    }
   ],
   "source": [
    "df['Label'].value_counts()"
   ]
  },
  {
   "cell_type": "code",
   "execution_count": null,
   "id": "88a8588f-9313-4276-b007-cd62ad9430b6",
   "metadata": {},
   "outputs": [],
   "source": []
  }
 ],
 "metadata": {
  "kernelspec": {
   "display_name": "Python 3 (ipykernel)",
   "language": "python",
   "name": "python3"
  },
  "language_info": {
   "codemirror_mode": {
    "name": "ipython",
    "version": 3
   },
   "file_extension": ".py",
   "mimetype": "text/x-python",
   "name": "python",
   "nbconvert_exporter": "python",
   "pygments_lexer": "ipython3",
   "version": "3.12.3"
  }
 },
 "nbformat": 4,
 "nbformat_minor": 5
}
